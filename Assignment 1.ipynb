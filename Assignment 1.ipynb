{
 "cells": [
  {
   "cell_type": "code",
   "execution_count": 6,
   "id": "f2aa6e7c",
   "metadata": {},
   "outputs": [
    {
     "name": "stdout",
     "output_type": "stream",
     "text": [
      "   Feature 1  Feature 2  Feature 3  Feature 4\n",
      "0   0.703528   0.243325   0.269348   0.596289\n",
      "1   0.901984   0.985756   0.547572   0.074436\n",
      "2   0.435029   0.270962   0.553170   0.841560\n",
      "3   0.127831   0.688373   0.432381   0.574289\n"
     ]
    }
   ],
   "source": [
    "\n",
    "import pandas as pd\n",
    "import numpy as np\n",
    "\n",
    "data = np.random.rand(4, 4)  # Generating random values\n",
    "\n",
    "df = pd.DataFrame(data, columns=['Feature 1', 'Feature 2', 'Feature 3', 'Feature 4'])\n",
    "\n",
    "print(df)"
   ]
  },
  {
   "cell_type": "code",
   "execution_count": 7,
   "id": "9a339a7a",
   "metadata": {},
   "outputs": [
    {
     "name": "stdout",
     "output_type": "stream",
     "text": [
      "   random value 1  random value 2  random value 3  random value 4\n",
      "0        0.154844        0.442854        0.691142        0.987839\n",
      "1        0.275300        0.180308        0.668790        0.166125\n",
      "2        0.749594        0.880562        0.522850        0.658961\n",
      "3        0.658094        0.408707        0.829385        0.810168\n"
     ]
    }
   ],
   "source": [
    "import pandas as pd\n",
    "import numpy as np\n",
    "\n",
    "data = np.random.rand(4, 4)  # Generating random values\n",
    "\n",
    "df = pd.DataFrame(data, columns=['Feature 1', 'Feature 2', 'Feature 3', 'Feature 4'])\n",
    "\n",
    "# Renaming the column names\n",
    "df.rename(columns={'Feature 1': 'random value 1', 'Feature 2': 'random value 2',\n",
    "                   'Feature 3': 'random value 3', 'Feature 4': 'random value 4'}, inplace=True)\n",
    "\n",
    "print(df)"
   ]
  },
  {
   "cell_type": "code",
   "execution_count": 8,
   "id": "0ba73a7b",
   "metadata": {},
   "outputs": [
    {
     "name": "stdout",
     "output_type": "stream",
     "text": [
      "       random value 1  random value 2  random value 3  random value 4\n",
      "count        4.000000        4.000000        4.000000        4.000000\n",
      "mean         0.699202        0.400349        0.397532        0.706385\n",
      "std          0.075770        0.361113        0.206614        0.244263\n",
      "min          0.651117        0.027231        0.137019        0.415242\n",
      "25%          0.654351        0.233989        0.306886        0.574504\n",
      "50%          0.667158        0.340921        0.409900        0.709981\n",
      "75%          0.712008        0.507281        0.500547        0.841861\n",
      "max          0.811374        0.892322        0.633310        0.990335\n"
     ]
    }
   ],
   "source": [
    "import pandas as pd\n",
    "import numpy as np\n",
    "\n",
    "data = np.random.rand(4, 4)  # Generating random values\n",
    "\n",
    "df = pd.DataFrame(data, columns=['random value 1', 'random value 2', 'random value 3', 'random value 4'])\n",
    "\n",
    "# Finding descriptive statistics\n",
    "statistics = df.describe()\n",
    "\n",
    "print(statistics)"
   ]
  },
  {
   "cell_type": "code",
   "execution_count": 9,
   "id": "86863174",
   "metadata": {},
   "outputs": [
    {
     "name": "stdout",
     "output_type": "stream",
     "text": [
      "Null Values:\n",
      "random value 1    0\n",
      "random value 2    0\n",
      "random value 3    0\n",
      "random value 4    0\n",
      "dtype: int64\n",
      "\n",
      "Data Types:\n",
      "random value 1    float64\n",
      "random value 2    float64\n",
      "random value 3    float64\n",
      "random value 4    float64\n",
      "dtype: object\n"
     ]
    }
   ],
   "source": [
    "import pandas as pd\n",
    "import numpy as np\n",
    "\n",
    "data = np.random.rand(4, 4)  # Generating random values\n",
    "\n",
    "df = pd.DataFrame(data, columns=['random value 1', 'random value 2', 'random value 3', 'random value 4'])\n",
    "\n",
    "# Checking for null values\n",
    "null_values = df.isnull().sum()\n",
    "\n",
    "# Finding data types of columns\n",
    "data_types = df.dtypes\n",
    "\n",
    "print(\"Null Values:\")\n",
    "print(null_values)\n",
    "print(\"\\nData Types:\")\n",
    "print(data_types)"
   ]
  },
  {
   "cell_type": "code",
   "execution_count": 10,
   "id": "84f7b626",
   "metadata": {},
   "outputs": [
    {
     "name": "stdout",
     "output_type": "stream",
     "text": [
      "Using location method:\n",
      "   random value 2  random value 3\n",
      "0        0.253764        0.188601\n",
      "1        0.991993        0.498103\n",
      "2        0.207174        0.141126\n",
      "3        0.454448        0.033899\n",
      "\n",
      "Using index location method:\n",
      "   random value 2  random value 3\n",
      "0        0.253764        0.188601\n",
      "1        0.991993        0.498103\n",
      "2        0.207174        0.141126\n",
      "3        0.454448        0.033899\n"
     ]
    }
   ],
   "source": [
    "import pandas as pd\n",
    "import numpy as np\n",
    "\n",
    "data = np.random.rand(4, 4)  # Generating random values\n",
    "\n",
    "df = pd.DataFrame(data, columns=['random value 1', 'random value 2', 'random value 3', 'random value 4'])\n",
    "\n",
    "# Displaying columns using location method\n",
    "columns_location = df.loc[:, ['random value 2', 'random value 3']]\n",
    "print(\"Using location method:\")\n",
    "print(columns_location)\n",
    "\n",
    "# Displaying columns using index location method\n",
    "columns_index_location = df.iloc[:, [1, 2]]\n",
    "print(\"\\nUsing index location method:\")\n",
    "print(columns_index_location)"
   ]
  },
  {
   "cell_type": "code",
   "execution_count": null,
   "id": "bae1c0ce",
   "metadata": {},
   "outputs": [],
   "source": []
  }
 ],
 "metadata": {
  "kernelspec": {
   "display_name": "Python 3 (ipykernel)",
   "language": "python",
   "name": "python3"
  },
  "language_info": {
   "codemirror_mode": {
    "name": "ipython",
    "version": 3
   },
   "file_extension": ".py",
   "mimetype": "text/x-python",
   "name": "python",
   "nbconvert_exporter": "python",
   "pygments_lexer": "ipython3",
   "version": "3.11.3"
  }
 },
 "nbformat": 4,
 "nbformat_minor": 5
}
